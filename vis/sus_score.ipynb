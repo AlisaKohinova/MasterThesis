{
 "cells": [
  {
   "cell_type": "code",
   "execution_count": 58,
   "id": "77b817d0",
   "metadata": {},
   "outputs": [],
   "source": [
    "import pandas as pd"
   ]
  },
  {
   "cell_type": "code",
   "execution_count": 59,
   "id": "62aaf34f",
   "metadata": {},
   "outputs": [],
   "source": [
    "df = pd.read_csv('SectionC - SUS.csv', index_col='id')"
   ]
  },
  {
   "cell_type": "code",
   "execution_count": 60,
   "id": "eddcdef6",
   "metadata": {
    "scrolled": true
   },
   "outputs": [
    {
     "data": {
      "text/html": [
       "<div>\n",
       "<style scoped>\n",
       "    .dataframe tbody tr th:only-of-type {\n",
       "        vertical-align: middle;\n",
       "    }\n",
       "\n",
       "    .dataframe tbody tr th {\n",
       "        vertical-align: top;\n",
       "    }\n",
       "\n",
       "    .dataframe thead th {\n",
       "        text-align: right;\n",
       "    }\n",
       "</style>\n",
       "<table border=\"1\" class=\"dataframe\">\n",
       "  <thead>\n",
       "    <tr style=\"text-align: right;\">\n",
       "      <th></th>\n",
       "      <th>task1</th>\n",
       "      <th>task2</th>\n",
       "      <th>task3</th>\n",
       "      <th>task4</th>\n",
       "      <th>task5</th>\n",
       "      <th>task6</th>\n",
       "      <th>task7</th>\n",
       "      <th>task8</th>\n",
       "      <th>task9</th>\n",
       "      <th>task10</th>\n",
       "    </tr>\n",
       "    <tr>\n",
       "      <th>id</th>\n",
       "      <th></th>\n",
       "      <th></th>\n",
       "      <th></th>\n",
       "      <th></th>\n",
       "      <th></th>\n",
       "      <th></th>\n",
       "      <th></th>\n",
       "      <th></th>\n",
       "      <th></th>\n",
       "      <th></th>\n",
       "    </tr>\n",
       "  </thead>\n",
       "  <tbody>\n",
       "    <tr>\n",
       "      <th>1</th>\n",
       "      <td>4</td>\n",
       "      <td>3</td>\n",
       "      <td>4</td>\n",
       "      <td>2</td>\n",
       "      <td>4</td>\n",
       "      <td>3</td>\n",
       "      <td>5</td>\n",
       "      <td>4</td>\n",
       "      <td>3</td>\n",
       "      <td>2</td>\n",
       "    </tr>\n",
       "  </tbody>\n",
       "</table>\n",
       "</div>"
      ],
      "text/plain": [
       "    task1  task2  task3  task4  task5  task6  task7  task8  task9  task10\n",
       "id                                                                       \n",
       "1       4      3      4      2      4      3      5      4      3       2"
      ]
     },
     "execution_count": 60,
     "metadata": {},
     "output_type": "execute_result"
    }
   ],
   "source": [
    "df"
   ]
  },
  {
   "cell_type": "code",
   "execution_count": 63,
   "id": "8656c5a6",
   "metadata": {},
   "outputs": [],
   "source": [
    "def calculate_sus_score(row):\n",
    "    normal_indexes = ['task1', 'task3', 'task5', 'task7', 'task9']\n",
    "    reversed_indexes = ['task2', 'task4', 'task6', 'task8', 'task10']\n",
    "    \n",
    "    \n",
    "    X = 0\n",
    "    for n_i in normal_indexes:\n",
    "        X += row[n_i]\n",
    "    X = X - 5\n",
    "        \n",
    "    Y = 0\n",
    "    for r_i in reversed_indexes:\n",
    "        Y += row[r_i]\n",
    "    Y = 25 - Y\n",
    "    \n",
    "    sus_score = (X + Y) * 2.5\n",
    "    return sus_score\n",
    "\n",
    "\n",
    "df['sus_score'] = df.apply(calculate_sus_score, axis=1)\n"
   ]
  },
  {
   "cell_type": "code",
   "execution_count": 64,
   "id": "bd8b291c",
   "metadata": {},
   "outputs": [
    {
     "data": {
      "text/html": [
       "<div>\n",
       "<style scoped>\n",
       "    .dataframe tbody tr th:only-of-type {\n",
       "        vertical-align: middle;\n",
       "    }\n",
       "\n",
       "    .dataframe tbody tr th {\n",
       "        vertical-align: top;\n",
       "    }\n",
       "\n",
       "    .dataframe thead th {\n",
       "        text-align: right;\n",
       "    }\n",
       "</style>\n",
       "<table border=\"1\" class=\"dataframe\">\n",
       "  <thead>\n",
       "    <tr style=\"text-align: right;\">\n",
       "      <th></th>\n",
       "      <th>task1</th>\n",
       "      <th>task2</th>\n",
       "      <th>task3</th>\n",
       "      <th>task4</th>\n",
       "      <th>task5</th>\n",
       "      <th>task6</th>\n",
       "      <th>task7</th>\n",
       "      <th>task8</th>\n",
       "      <th>task9</th>\n",
       "      <th>task10</th>\n",
       "      <th>SUS Score</th>\n",
       "      <th>sus_score</th>\n",
       "    </tr>\n",
       "    <tr>\n",
       "      <th>id</th>\n",
       "      <th></th>\n",
       "      <th></th>\n",
       "      <th></th>\n",
       "      <th></th>\n",
       "      <th></th>\n",
       "      <th></th>\n",
       "      <th></th>\n",
       "      <th></th>\n",
       "      <th></th>\n",
       "      <th></th>\n",
       "      <th></th>\n",
       "      <th></th>\n",
       "    </tr>\n",
       "  </thead>\n",
       "  <tbody>\n",
       "    <tr>\n",
       "      <th>1</th>\n",
       "      <td>4</td>\n",
       "      <td>3</td>\n",
       "      <td>4</td>\n",
       "      <td>2</td>\n",
       "      <td>4</td>\n",
       "      <td>3</td>\n",
       "      <td>5</td>\n",
       "      <td>4</td>\n",
       "      <td>3</td>\n",
       "      <td>2</td>\n",
       "      <td>65.0</td>\n",
       "      <td>65.0</td>\n",
       "    </tr>\n",
       "  </tbody>\n",
       "</table>\n",
       "</div>"
      ],
      "text/plain": [
       "    task1  task2  task3  task4  task5  task6  task7  task8  task9  task10  \\\n",
       "id                                                                          \n",
       "1       4      3      4      2      4      3      5      4      3       2   \n",
       "\n",
       "    SUS Score  sus_score  \n",
       "id                        \n",
       "1        65.0       65.0  "
      ]
     },
     "execution_count": 64,
     "metadata": {},
     "output_type": "execute_result"
    }
   ],
   "source": [
    "df"
   ]
  },
  {
   "cell_type": "code",
   "execution_count": 71,
   "id": "44dd37a7",
   "metadata": {},
   "outputs": [
    {
     "data": {
      "image/png": "[encoded data removed]",
      "text/plain": [
       "<Figure size 1000x600 with 1 Axes>"
      ]
     },
     "metadata": {},
     "output_type": "display_data"
    }
   ],
   "source": [
    "import seaborn as sns\n",
    "import pandas as pd\n",
    "import matplotlib.pyplot as plt\n",
    "\n",
    "# Sample data (replace this with your actual data)\n",
    "data = {\n",
    "    'id': ['Person1', 'Person2', 'Person3', 'Person4'],\n",
    "    'task1': [3, 4, 2, 5],\n",
    "    'task2': [2, 3, 4, 2],\n",
    "    'task3': [1, 2, 3, 4],\n",
    "    'task4': [4, 3, 2, 5],\n",
    "    'task5': [2, 3, 4, 2],\n",
    "    'task6': [1, 2, 3, 4],\n",
    "    'task7': [3, 4, 2, 5],\n",
    "    'task8': [2, 3, 4, 2],\n",
    "    'task9': [1, 2, 3, 4],\n",
    "    'task10': [4, 3, 2, 5]\n",
    "}\n",
    "\n",
    "# Convert data to DataFrame\n",
    "df = pd.DataFrame(data)\n",
    "\n",
    "# Melt the DataFrame to have 'id' and 'task' as identifiers\n",
    "melted_df = df.melt(id_vars='id', var_name='task', value_name='score')\n",
    "\n",
    "# Define Likert scale colors\n",
    "likert_colors = sns.color_palette(\"RdYlBu\", 6)\n",
    "\n",
    "# Create the stacked horizontal bar plot\n",
    "plt.figure(figsize=(10, 6))\n",
    "sns.barplot(data=melted_df, x='score', y='id', hue='task', palette=likert_colors, orient='h')\n",
    "plt.xlabel('Score')\n",
    "plt.ylabel('Participant ID')\n",
    "plt.title('Likert Scale Visualization')\n",
    "plt.legend(title='Task', bbox_to_anchor=(1, 1), loc='upper left')\n",
    "plt.tight_layout()\n",
    "plt.show()\n"
   ]
  },
  {
   "cell_type": "code",
   "execution_count": null,
   "id": "a961ce78",
   "metadata": {},
   "outputs": [],
   "source": []
  }
 ],
 "metadata": {
  "kernelspec": {
   "display_name": "Python 3 (ipykernel)",
   "language": "python",
   "name": "python3"
  },
  "language_info": {
   "codemirror_mode": {
    "name": "ipython",
    "version": 3
   },
   "file_extension": ".py",
   "mimetype": "text/x-python",
   "name": "python",
   "nbconvert_exporter": "python",
   "pygments_lexer": "ipython3",
   "version": "3.10.9"
  }
 },
 "nbformat": 4,
 "nbformat_minor": 5
}
